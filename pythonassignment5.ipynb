{
 "cells": [
  {
   "cell_type": "code",
   "execution_count": 1,
   "id": "3b0a85c2",
   "metadata": {},
   "outputs": [
    {
     "data": {
      "text/plain": [
       "{}"
      ]
     },
     "execution_count": 1,
     "metadata": {},
     "output_type": "execute_result"
    }
   ],
   "source": [
    "\"\"\"1. What does an empty dictionary's code look like?\n",
    "\n",
    "Ans\"\"\"\n",
    "{}"
   ]
  },
  {
   "cell_type": "code",
   "execution_count": 3,
   "id": "c1d762ef",
   "metadata": {},
   "outputs": [
    {
     "data": {
      "text/plain": [
       "{'foo': 42}"
      ]
     },
     "execution_count": 3,
     "metadata": {},
     "output_type": "execute_result"
    }
   ],
   "source": [
    "\"\"\"2. What is the value of a dictionary value with the key 'foo' and the value 42?\n",
    "\n",
    "Ans\"\"\"\n",
    "dic={'foo':42}\n",
    "dic"
   ]
  },
  {
   "cell_type": "code",
   "execution_count": null,
   "id": "5305cb69",
   "metadata": {},
   "outputs": [],
   "source": [
    "\"\"\"3. What is the most significant distinction between a dictionary and a list?\n",
    "\n",
    "Ans\n",
    "the items stored in dictionary are unordered while in list it is ordered\"\"\""
   ]
  },
  {
   "cell_type": "code",
   "execution_count": 6,
   "id": "d6e21d33",
   "metadata": {},
   "outputs": [
    {
     "ename": "KeyError",
     "evalue": "'foo'",
     "output_type": "error",
     "traceback": [
      "\u001b[1;31m---------------------------------------------------------------------------\u001b[0m",
      "\u001b[1;31mKeyError\u001b[0m                                  Traceback (most recent call last)",
      "\u001b[1;32m<ipython-input-6-c933b7c10a02>\u001b[0m in \u001b[0;36m<module>\u001b[1;34m\u001b[0m\n\u001b[0;32m      4\u001b[0m \u001b[1;33m\u001b[0m\u001b[0m\n\u001b[0;32m      5\u001b[0m \u001b[0mspam\u001b[0m\u001b[1;33m=\u001b[0m\u001b[1;33m{\u001b[0m\u001b[1;34m'bar'\u001b[0m\u001b[1;33m:\u001b[0m\u001b[1;36m100\u001b[0m\u001b[1;33m}\u001b[0m\u001b[1;33m\u001b[0m\u001b[1;33m\u001b[0m\u001b[0m\n\u001b[1;32m----> 6\u001b[1;33m \u001b[0mspam\u001b[0m\u001b[1;33m[\u001b[0m\u001b[1;34m'foo'\u001b[0m\u001b[1;33m]\u001b[0m\u001b[1;33m\u001b[0m\u001b[1;33m\u001b[0m\u001b[0m\n\u001b[0m",
      "\u001b[1;31mKeyError\u001b[0m: 'foo'"
     ]
    }
   ],
   "source": [
    "\"\"\"4. What happens if you try to access spam['foo'] if spam is {'bar': 100}?\n",
    "\n",
    "Ans\n",
    "we will get key error\"\"\"\n",
    "\n",
    "spam={'bar':100}\n",
    "spam['foo']"
   ]
  },
  {
   "cell_type": "code",
   "execution_count": 18,
   "id": "059334b3",
   "metadata": {},
   "outputs": [
    {
     "name": "stdout",
     "output_type": "stream",
     "text": [
      "True\n",
      "True\n"
     ]
    }
   ],
   "source": [
    "\"\"\"5. If a dictionary is stored in spam, what is the difference between the expressions 'cat' in spam and\n",
    "'cat' in spam.keys()?\n",
    "\n",
    "Ans\n",
    "both are same the in operator checks weather the key 'cat'  is present in the dictionaty and 'cat' in spam.key() \n",
    "checks for 'cat' key \"\"\"\n",
    "\n",
    "spam= {'cat':'value'}\n",
    "key='cat' in spam\n",
    "print(key)\n",
    "check= 'cat' in spam.keys()\n",
    "print(check)"
   ]
  },
  {
   "cell_type": "code",
   "execution_count": null,
   "id": "8e0adb9b",
   "metadata": {},
   "outputs": [],
   "source": [
    "\"\"\"6. If a dictionary is stored in spam, what is the difference between the expressions 'cat' in spam and\n",
    "'cat' in spam.values()?\n",
    "\n",
    "Ans \n",
    "There is no difference. The in operator checks whether a value exists as a key in the dictionary. 'cat' in spam \n",
    "checks whether there is a 'cat' key in the dictionary, while 'cat' in spam. values() checks whether there is a \n",
    "value 'cat' for one of the keys in spam \"\"\""
   ]
  },
  {
   "cell_type": "code",
   "execution_count": 24,
   "id": "d969cf54",
   "metadata": {},
   "outputs": [
    {
     "data": {
      "text/plain": [
       "'black'"
      ]
     },
     "execution_count": 24,
     "metadata": {},
     "output_type": "execute_result"
    }
   ],
   "source": [
    "\"\"\"7. What is a shortcut for the following code?\"\"\"\n",
    "\n",
    "#if 'color' not in spam:\n",
    "    #spam['color'] = 'black'\n",
    "\n",
    "spam.setdefault('colour','black')\n"
   ]
  },
  {
   "cell_type": "code",
   "execution_count": null,
   "id": "3a530c86",
   "metadata": {},
   "outputs": [],
   "source": [
    "\"\"\"8. How do you \"pretty print\" dictionary values using which module and function?\n",
    "\n",
    "Ans\n",
    " pprint() to Pretty Print a Dictionary in Python\"\"\""
   ]
  }
 ],
 "metadata": {
  "kernelspec": {
   "display_name": "Python 3",
   "language": "python",
   "name": "python3"
  },
  "language_info": {
   "codemirror_mode": {
    "name": "ipython",
    "version": 3
   },
   "file_extension": ".py",
   "mimetype": "text/x-python",
   "name": "python",
   "nbconvert_exporter": "python",
   "pygments_lexer": "ipython3",
   "version": "3.8.8"
  }
 },
 "nbformat": 4,
 "nbformat_minor": 5
}
